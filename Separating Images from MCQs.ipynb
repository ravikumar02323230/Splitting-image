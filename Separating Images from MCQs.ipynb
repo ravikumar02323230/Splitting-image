{
 "cells": [
  {
   "cell_type": "markdown",
   "metadata": {},
   "source": [
    "## Importing numpy and OpenCV libraries"
   ]
  },
  {
   "cell_type": "code",
   "execution_count": 13,
   "metadata": {},
   "outputs": [],
   "source": [
    "import cv2\n",
    "import numpy as np"
   ]
  },
  {
   "cell_type": "markdown",
   "metadata": {},
   "source": [
    "## Reading and splitting MCQ Question"
   ]
  },
  {
   "cell_type": "code",
   "execution_count": 14,
   "metadata": {},
   "outputs": [
    {
     "data": {
      "text/plain": [
       "-1"
      ]
     },
     "execution_count": 14,
     "metadata": {},
     "output_type": "execute_result"
    }
   ],
   "source": [
    "#Image source https://kumarsir34.files.wordpress.com/2019/04/maths-class-x-question-bank.pdf\n",
    "img=cv2.imread(r\"C:\\Users\\RAVI KUMAR\\Downloads\\mcq2.JPG\")\n",
    "img.shape\n",
    "\n",
    "#Separating Figure\n",
    "width, height=300,310\n",
    "points1=np.float32([[545,242],[835,242],[545,10],[835,10]])\n",
    "points2=np.float32([[0,0],[width,0],[0,height],[width,height]])\n",
    "matrix=cv2.getPerspectiveTransform(points1,points2)\n",
    "imgOutput=cv2.warpPerspective(img,matrix,(width,height))\n",
    "\n",
    "cv2.imshow(\"Figure\", img)\n",
    "cv2.imshow(\"Output\", cv2.flip(imgOutput,0))\n",
    "\n",
    "\n",
    "#Separating Question\n",
    "width2, height2=500,250\n",
    "points11=np.float32([[1,242],[500,242],[1,1],[500,1]])\n",
    "points22=np.float32([[0,0],[width2,0],[0,height2],[width2,height2]])\n",
    "matrix1=cv2.getPerspectiveTransform(points11,points22)\n",
    "imgOutput1=cv2.warpPerspective(img,matrix1,(width2,height2))\n",
    "\n",
    "cv2.imshow(\"Output2\", cv2.flip(imgOutput1,0))\n",
    "cv2.waitKey(0)"
   ]
  },
  {
   "cell_type": "code",
   "execution_count": null,
   "metadata": {},
   "outputs": [],
   "source": []
  },
  {
   "cell_type": "code",
   "execution_count": null,
   "metadata": {},
   "outputs": [],
   "source": []
  },
  {
   "cell_type": "code",
   "execution_count": null,
   "metadata": {},
   "outputs": [],
   "source": []
  }
 ],
 "metadata": {
  "kernelspec": {
   "display_name": "Python 3",
   "language": "python",
   "name": "python3"
  },
  "language_info": {
   "codemirror_mode": {
    "name": "ipython",
    "version": 3
   },
   "file_extension": ".py",
   "mimetype": "text/x-python",
   "name": "python",
   "nbconvert_exporter": "python",
   "pygments_lexer": "ipython3",
   "version": "3.7.6"
  }
 },
 "nbformat": 4,
 "nbformat_minor": 4
}
